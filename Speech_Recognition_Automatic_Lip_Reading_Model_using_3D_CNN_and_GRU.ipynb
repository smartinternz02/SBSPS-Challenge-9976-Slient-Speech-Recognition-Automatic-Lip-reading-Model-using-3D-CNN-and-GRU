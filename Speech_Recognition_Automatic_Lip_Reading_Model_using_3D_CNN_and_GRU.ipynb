{
  "cells": [
    {
      "metadata": {
        "_uuid": "8f2839f25d086af736a60e9eeb907d3b93b6e0e5",
        "_cell_guid": "b1076dfc-b9ad-4769-8c92-a6c4dae69d19",
        "trusted": true,
        "id": "TeL40iL_LM-a"
      },
      "cell_type": "code",
      "source": [
        "# This Python 3 environment comes with many helpful analytics libraries installed\n",
        "# It is defined by the kaggle/python docker image: https://github.com/kaggle/docker-python\n",
        "# For example, here's several helpful packages to load in\n",
        "\n",
        "import numpy as np # linear algebra\n",
        "import pandas as pd # data processing, CSV file I/O (e.g. pd.read_csv)\n",
        "\n",
        "# Input data files are available in the \"../input/\" directory.\n",
        "# For example, running this (by clicking run or pressing Shift+Enter) will list all files under the input directory\n",
        "\n",
        "# import os\n",
        "# for dirname, _, filenames in os.walk('/kaggle/input'):\n",
        "#     for filename in filenames:\n",
        "#         print(os.path.join(dirname, filename))\n",
        "\n",
        "# Any results you write to the current directory are saved as output."
      ],
      "execution_count": null,
      "outputs": []
    },
    {
      "metadata": {
        "trusted": true,
        "id": "Va5By33rLM-b",
        "outputId": "6cddd4d4-79e1-49b8-cd1c-73be050075a9"
      },
      "cell_type": "code",
      "source": [
        "!pip install dlib\n",
        "!pip install imutils"
      ],
      "execution_count": null,
      "outputs": [
        {
          "output_type": "stream",
          "text": "Collecting dlib\n\u001b[?25l  Downloading https://files.pythonhosted.org/packages/63/92/05c3b98636661cb80d190a5a777dd94effcc14c0f6893222e5ca81e74fbc/dlib-19.19.0.tar.gz (3.2MB)\n\u001b[K     |████████████████████████████████| 3.2MB 3.3MB/s eta 0:00:01\n\u001b[?25hBuilding wheels for collected packages: dlib\n  Building wheel for dlib (setup.py) ... \u001b[?25ldone\n\u001b[?25h  Created wheel for dlib: filename=dlib-19.19.0-cp36-cp36m-linux_x86_64.whl size=4086274 sha256=1a76b533ad316ca5516627860dd435f504a9eddba53b72533638122ea10abaf9\n  Stored in directory: /root/.cache/pip/wheels/96/ac/11/8aadec62cb4fb5b264a9b1b042caf415de9a75f5e165d79a51\nSuccessfully built dlib\nInstalling collected packages: dlib\nSuccessfully installed dlib-19.19.0\nCollecting imutils\n  Downloading https://files.pythonhosted.org/packages/b5/94/46dcae8c061e28be31bcaa55c560cb30ee9403c9a4bb2659768ec1b9eb7d/imutils-0.5.3.tar.gz\nBuilding wheels for collected packages: imutils\n  Building wheel for imutils (setup.py) ... \u001b[?25ldone\n\u001b[?25h  Created wheel for imutils: filename=imutils-0.5.3-cp36-none-any.whl size=25851 sha256=863487886175abb6186988ac6e9a5e9de766f6be98eca5bb61c437118af84642\n  Stored in directory: /root/.cache/pip/wheels/16/84/1f/bf88641293cda2c8be81a5c4b8ca973dd9125a6dc3767417fd\nSuccessfully built imutils\nInstalling collected packages: imutils\nSuccessfully installed imutils-0.5.3\n",
          "name": "stdout"
        }
      ]
    },
    {
      "metadata": {
        "_uuid": "d629ff2d2480ee46fbb7e2d37f6b5fab8052498a",
        "_cell_guid": "79c7e3d0-c299-4dcb-8224-4455121ee9b0",
        "trusted": true,
        "id": "WWqSrTQTLM-c"
      },
      "cell_type": "code",
      "source": [
        "import numpy as np\n",
        "import os\n",
        "import imutils\n",
        "import dlib # run \"pip install dlib\"\n",
        "import cv2 # run \"pip install opencv-python\"\n",
        "\n",
        "import imageio\n",
        "from imutils import face_utils"
      ],
      "execution_count": null,
      "outputs": []
    },
    {
      "metadata": {
        "trusted": true,
        "id": "g0rYC3xjLM-c"
      },
      "cell_type": "code",
      "source": [
        "def rect_to_bb(rect):\n",
        "    # take a bounding predicted by dlib and convert it\n",
        "    # to the format (x, y, w, h) as we would normally do\n",
        "    # with OpenCV\n",
        "    x = rect.left()\n",
        "    y = rect.top()\n",
        "    w = rect.right() - x\n",
        "    h = rect.bottom() - y\n",
        "\n",
        "    # return a tuple of (x, y, w, h)\n",
        "    return (x, y, w, h)\n",
        "\n",
        "def shape_to_np(shape, dtype=\"int\"):\n",
        "    # initialize the list of (x, y)-coordinates\n",
        "    coords = np.zeros((68, 2), dtype=dtype)\n",
        "\n",
        "    # loop over the 68 facial landmarks and convert them\n",
        "    # to a 2-tuple of (x, y)-coordinates\n",
        "    for i in range(0, 68):\n",
        "    \tcoords[i] = (shape.part(i).x, shape.part(i).y)\n",
        "\n",
        "    # return the list of (x, y)-coordinates\n",
        "    return coords"
      ],
      "execution_count": null,
      "outputs": []
    },
    {
      "metadata": {
        "trusted": true,
        "id": "5Da-41mFLM-d"
      },
      "cell_type": "code",
      "source": [
        "def crop_and_save_image(img, img_path, write_img_path, img_name):\n",
        "    detector = dlib.get_frontal_face_detector()\n",
        "    predictor = dlib.shape_predictor('../input/miraclvc1/shape_predictor_68_face_landmarks.dat')\n",
        "    # load the input image, resize it, and convert it to grayscale\n",
        "\n",
        "    image = cv2.imread(img_path)\n",
        "    image = imutils.resize(image, width=500)\n",
        "    gray = cv2.cvtColor(image, cv2.COLOR_BGR2GRAY)\n",
        "\n",
        "    # detect faces in the grayscale image\n",
        "    rects = detector(gray, 1)\n",
        "    if len(rects) > 1:\n",
        "    \tprint( \"ERROR: more than one face detected\")\n",
        "    \treturn\n",
        "    if len(rects) < 1:\n",
        "    \tprint( \"ERROR: no faces detected\")\n",
        "    \treturn\n",
        "\n",
        "    for (i, rect) in enumerate(rects):\n",
        "        shape = predictor(gray, rect)\n",
        "        shape = face_utils.shape_to_np(shape)\n",
        "        name, i, j = 'mouth', 48, 68\n",
        "        # clone = gray.copy()\n",
        "\n",
        "        (x, y, w, h) = cv2.boundingRect(np.array([shape[i:j]]))\n",
        "        roi = gray[y:y+h, x:x+w]\n",
        "        roi = imutils.resize(roi, width = 250, inter=cv2.INTER_CUBIC)\n",
        "#         print('cropped/' + write_img_path)\n",
        "#         cv2.imwrite('cropped/' + write_img_path, roi)\n"
      ],
      "execution_count": null,
      "outputs": []
    },
    {
      "metadata": {
        "trusted": true,
        "id": "LSnrpaWMLM-d"
      },
      "cell_type": "code",
      "source": [
        "# os.listdir('../input/miraclvc1/dataset/dataset')\n",
        "# predictor = dlib.shape_predictor('../input/miraclvc1/shape_predictor_68_face_landmarks.dat')"
      ],
      "execution_count": null,
      "outputs": []
    },
    {
      "metadata": {
        "trusted": true,
        "id": "yHUSF5s0LM-d"
      },
      "cell_type": "code",
      "source": [
        "people = ['F01','F02','F04','F05','F06','F07','F08','F09', 'F10','F11','M01','M02','M04','M07','M08']\n",
        "data_types = ['words']\n",
        "folder_enum = ['01','02','03','04','05','06','07','08', '09', '10']\n",
        "instances = ['01','02','03','04','05','06','07','08', '09', '10']\n",
        "\n",
        "words = ['Begin', 'Choose', 'Connection', 'Navigation', 'Next', 'Previous', 'Start', 'Stop', 'Hello', 'Web']\n",
        "words_di = {i:words[i] for i in range(len(words))}"
      ],
      "execution_count": null,
      "outputs": []
    },
    {
      "metadata": {
        "trusted": true,
        "id": "bpWRrGcXLM-d"
      },
      "cell_type": "code",
      "source": [
        "# if not os.path.exists('cropped'):\n",
        "#     os.mkdir('cropped')"
      ],
      "execution_count": null,
      "outputs": []
    },
    {
      "metadata": {
        "id": "Sjm6RDmaLM-d"
      },
      "cell_type": "markdown",
      "source": [
        "### Uncomment for creating a cropped version of the dataset\n",
        "\n",
        "Just to be clear, this is what cropped version for each instance looks like :\n",
        "\n",
        "![Demo](https://i.imgur.com/z6YIvFL.png)\n",
        "\n",
        "Note : This will take some time to execute depending on the number of users."
      ]
    },
    {
      "metadata": {
        "trusted": true,
        "id": "8tfrZNjdLM-e"
      },
      "cell_type": "code",
      "source": [],
      "execution_count": null,
      "outputs": []
    },
    {
      "metadata": {
        "trusted": true,
        "id": "_viZ-IncLM-e"
      },
      "cell_type": "code",
      "source": [
        "import shutil\n",
        "\n",
        "def crop_one_person():\n",
        "    os.mkdir('cropped')\n",
        "    people = ['F01']\n",
        "    data_types = ['words']\n",
        "    folder_enum = ['01']\n",
        "    instances = ['01']\n",
        "\n",
        "    i = 1\n",
        "    for person_ID in people:\n",
        "        if not os.path.exists('cropped/' + person_ID ):\n",
        "            os.mkdir('cropped/' + person_ID + '/')\n",
        "\n",
        "        for data_type in data_types:\n",
        "            if not os.path.exists('cropped/' + person_ID + '/' + data_type):\n",
        "                os.mkdir('cropped/' + person_ID + '/' + data_type)\n",
        "\n",
        "            for phrase_ID in folder_enum:\n",
        "                if not os.path.exists('cropped/' + person_ID + '/' + data_type + '/' + phrase_ID):\n",
        "                    # F01/phrases/01\n",
        "                    os.mkdir('cropped/' + person_ID + '/' + data_type + '/' + phrase_ID)\n",
        "\n",
        "                for instance_ID in instances:\n",
        "                    # F01/phrases/01/01\n",
        "                    directory = '../input/miraclvc1/dataset/dataset/' + person_ID + '/' + data_type + '/' + phrase_ID + '/' + instance_ID + '/'\n",
        "                    dir_temp = person_ID + '/' + data_type + '/' + phrase_ID + '/' + instance_ID + '/'\n",
        "    #                 print(directory)\n",
        "                    filelist = os.listdir(directory)\n",
        "                    if not os.path.exists('cropped/' + person_ID + '/' + data_type + '/' + phrase_ID + '/' + instance_ID):\n",
        "                        os.mkdir('cropped/' + person_ID + '/' + data_type + '/' + phrase_ID + '/' + instance_ID)\n",
        "\n",
        "                        for img_name in filelist:\n",
        "                            if img_name.startswith('color'):\n",
        "                                image = imageio.imread(directory + '' + img_name)\n",
        "                                crop_and_save_image(image, directory + '' + img_name,\n",
        "                                                    dir_temp + '' + img_name, img_name)\n",
        "\n",
        "    print(f'Iteration : {i}')\n",
        "    i += 1\n",
        "    shutil.rmtree('cropped')"
      ],
      "execution_count": null,
      "outputs": []
    },
    {
      "metadata": {
        "trusted": true,
        "id": "1Aj2mdiXLM-e"
      },
      "cell_type": "code",
      "source": [
        "# import time\n",
        "\n",
        "# times = 0\n",
        "# for _ in range(7):\n",
        "#     t1 = time.time()\n",
        "#     crop_one_person()\n",
        "#     t2 = time.time()\n",
        "#     times += (t2 - t1)\n",
        "\n",
        "# print(\"Average time over 7 iterations : \", times/7)"
      ],
      "execution_count": null,
      "outputs": []
    },
    {
      "metadata": {
        "id": "AJcGHB-YLM-e"
      },
      "cell_type": "markdown",
      "source": [
        "Checking whether the cropped sequences are in the right directory"
      ]
    },
    {
      "metadata": {
        "trusted": true,
        "id": "qUUiX0ZOLM-e"
      },
      "cell_type": "code",
      "source": [
        "# os.listdir('../input/cropped-data/cropped')"
      ],
      "execution_count": null,
      "outputs": []
    },
    {
      "metadata": {
        "trusted": true,
        "id": "NYNfNFBDLM-e"
      },
      "cell_type": "code",
      "source": [
        "max_seq_length = 22\n",
        "\n",
        "X_train = []\n",
        "y_train = []\n",
        "X_val = []\n",
        "y_val = []\n",
        "X_test = []\n",
        "y_test = []\n",
        "\n",
        "\n",
        "MAX_WIDTH = 100\n",
        "MAX_HEIGHT = 100"
      ],
      "execution_count": null,
      "outputs": []
    },
    {
      "metadata": {
        "trusted": true,
        "id": "Jck0eIEYLM-f"
      },
      "cell_type": "code",
      "source": [
        "from skimage.transform import resize\n",
        "import time"
      ],
      "execution_count": null,
      "outputs": []
    },
    {
      "metadata": {
        "trusted": true,
        "id": "I6LS9sPVLM-f",
        "outputId": "e69f9498-47f8-4eee-f067-129516b543aa"
      },
      "cell_type": "code",
      "source": [
        "t1 = time.time()\n",
        "UNSEEN_VALIDATION_SPLIT = ['F07', 'M02']\n",
        "UNSEEN_TEST_SPLIT = ['F04']\n",
        "\n",
        "directory = \"../input/cropped-data/cropped\"\n",
        "\n",
        "for person_id in people:\n",
        "    tx1 = time.time()\n",
        "    for data_type in data_types:\n",
        "        for word_index, word in enumerate(folder_enum):\n",
        "#             print(f\"Word : '{words[word_index]}'\")\n",
        "            for iteration in instances:\n",
        "                path = os.path.join(directory, person_id, data_type, word, iteration)\n",
        "                filelist = sorted(os.listdir(path + '/'))\n",
        "                sequence = []\n",
        "                for img_name in filelist:\n",
        "                    if img_name.startswith('color'):\n",
        "                        image = imageio.imread(path + '/' + img_name)\n",
        "                        image = resize(image, (MAX_WIDTH, MAX_HEIGHT))\n",
        "                        image = 255 * image\n",
        "                        # Convert to integer data type pixels.\n",
        "                        image = image.astype(np.uint8)\n",
        "                        sequence.append(image)\n",
        "                pad_array = [np.zeros((MAX_WIDTH, MAX_HEIGHT))]\n",
        "                sequence.extend(pad_array * (max_seq_length - len(sequence)))\n",
        "                sequence = np.array(sequence)\n",
        "\n",
        "                if person_id in UNSEEN_TEST_SPLIT:\n",
        "                    X_test.append(sequence)\n",
        "                    y_test.append(word_index)\n",
        "                elif person_id in UNSEEN_VALIDATION_SPLIT:\n",
        "                    X_val.append(sequence)\n",
        "                    y_val.append(word_index)\n",
        "                else:\n",
        "                    X_train.append(sequence)\n",
        "                    y_train.append(word_index)\n",
        "    tx2 = time.time()\n",
        "    print(f'Finished reading images for person {person_id}. Time taken : {tx2 - tx1} secs.')\n",
        "\n",
        "t2 = time.time()\n",
        "print(f\"Time taken for creating constant size 3D Tensors from those cropped lip regions : {t2 - t1} secs.\")"
      ],
      "execution_count": null,
      "outputs": [
        {
          "output_type": "stream",
          "text": "Finished reading images for person F01. Time taken : 5.517017364501953 secs.\nFinished reading images for person F02. Time taken : 5.167886734008789 secs.\nFinished reading images for person F04. Time taken : 8.661330938339233 secs.\nFinished reading images for person F05. Time taken : 7.227848768234253 secs.\nFinished reading images for person F06. Time taken : 7.28635573387146 secs.\nFinished reading images for person F07. Time taken : 7.498943090438843 secs.\nFinished reading images for person F08. Time taken : 5.634554624557495 secs.\nFinished reading images for person F09. Time taken : 5.862581729888916 secs.\nFinished reading images for person F10. Time taken : 5.547099351882935 secs.\nFinished reading images for person F11. Time taken : 4.696088552474976 secs.\nFinished reading images for person M01. Time taken : 6.209230661392212 secs.\nFinished reading images for person M02. Time taken : 6.667354583740234 secs.\nFinished reading images for person M04. Time taken : 6.540194511413574 secs.\nFinished reading images for person M07. Time taken : 4.98133659362793 secs.\nFinished reading images for person M08. Time taken : 5.254729986190796 secs.\nTime taken for creating constant size 3D Tensors from those cropped lip regions : 92.75814294815063 secs.\n",
          "name": "stdout"
        }
      ]
    },
    {
      "metadata": {
        "trusted": true,
        "id": "O-bZXrbsLM-f"
      },
      "cell_type": "code",
      "source": [
        "X_train = np.array(X_train)\n",
        "X_val = np.array(X_val)\n",
        "X_test = np.array(X_test)"
      ],
      "execution_count": null,
      "outputs": []
    },
    {
      "metadata": {
        "trusted": true,
        "id": "G530vpMCLM-f",
        "outputId": "de229b62-0207-46c1-ae75-7e4872413e88"
      },
      "cell_type": "code",
      "source": [
        "print(X_train.shape)\n",
        "print(X_val.shape)\n",
        "print(X_test.shape)"
      ],
      "execution_count": null,
      "outputs": [
        {
          "output_type": "stream",
          "text": "(1200, 22, 100, 100)\n(200, 22, 100, 100)\n(100, 22, 100, 100)\n",
          "name": "stdout"
        }
      ]
    },
    {
      "metadata": {
        "trusted": true,
        "id": "C7COpDOsLM-g"
      },
      "cell_type": "code",
      "source": [
        "y_train = np.array(y_train)\n",
        "y_val = np.array(y_val)\n",
        "y_test = np.array(y_test)"
      ],
      "execution_count": null,
      "outputs": []
    },
    {
      "metadata": {
        "trusted": true,
        "id": "Rl1UBJqeLM-g",
        "outputId": "587acdc9-2bd9-43d6-a890-f185517813c6"
      },
      "cell_type": "code",
      "source": [
        "print(y_train.shape)\n",
        "print(y_val.shape)\n",
        "print(y_test.shape)"
      ],
      "execution_count": null,
      "outputs": [
        {
          "output_type": "stream",
          "text": "(1200,)\n(200,)\n(100,)\n",
          "name": "stdout"
        }
      ]
    },
    {
      "metadata": {
        "id": "EikEq_G5LM-g"
      },
      "cell_type": "markdown",
      "source": [
        "## Normalization and stuff"
      ]
    },
    {
      "metadata": {
        "trusted": true,
        "id": "9zs9hK21LM-g"
      },
      "cell_type": "code",
      "source": [
        "def normalize_it(X):\n",
        "    v_min = X.min(axis=(2, 3), keepdims=True)\n",
        "    v_max = X.max(axis=(2, 3), keepdims=True)\n",
        "    X = (X - v_min)/(v_max - v_min)\n",
        "    X = np.nan_to_num(X)\n",
        "    return X"
      ],
      "execution_count": null,
      "outputs": []
    },
    {
      "metadata": {
        "trusted": true,
        "id": "53XwSC1qLM-g",
        "outputId": "992dd7d6-14a2-402e-c900-c275e4e87792"
      },
      "cell_type": "code",
      "source": [
        "from keras.utils import np_utils, generic_utils"
      ],
      "execution_count": null,
      "outputs": [
        {
          "output_type": "stream",
          "text": "Using TensorFlow backend.\n",
          "name": "stderr"
        }
      ]
    },
    {
      "metadata": {
        "trusted": true,
        "id": "6AazG6V9LM-g",
        "outputId": "6ce49f4d-c412-403d-cb0f-d88dff634ba3"
      },
      "cell_type": "code",
      "source": [
        "X_train = normalize_it(X_train)\n",
        "X_val = normalize_it(X_val)\n",
        "X_test = normalize_it(X_test)\n",
        "\n",
        "y_train = np_utils.to_categorical(y_train, 10)\n",
        "y_test = np_utils.to_categorical(y_test, 10)\n",
        "y_val = np_utils.to_categorical(y_val, 10)\n",
        "\n",
        "from sklearn.utils import shuffle\n",
        "X_train, y_train = shuffle(X_train, y_train, random_state=0)\n",
        "X_test, y_test = shuffle(X_test, y_test, random_state=0)\n",
        "X_val, y_val = shuffle(X_val, y_val, random_state=0)"
      ],
      "execution_count": null,
      "outputs": [
        {
          "output_type": "stream",
          "text": "/opt/conda/lib/python3.6/site-packages/ipykernel_launcher.py:4: RuntimeWarning: invalid value encountered in true_divide\n  after removing the cwd from sys.path.\n",
          "name": "stderr"
        }
      ]
    },
    {
      "metadata": {
        "trusted": true,
        "id": "l0lMoqpQLM-g"
      },
      "cell_type": "code",
      "source": [
        "X_train = np.expand_dims(X_train, axis=4)\n",
        "X_val = np.expand_dims(X_val, axis=4)\n",
        "X_test = np.expand_dims(X_test, axis=4)"
      ],
      "execution_count": null,
      "outputs": []
    },
    {
      "metadata": {
        "trusted": true,
        "id": "trqBGrzkLM-g",
        "outputId": "e0e4d3b1-b121-4fd9-cc2c-b7b38a2b428b"
      },
      "cell_type": "code",
      "source": [
        "print(X_train.shape)\n",
        "print(X_val.shape)\n",
        "print(X_test.shape)"
      ],
      "execution_count": null,
      "outputs": [
        {
          "output_type": "stream",
          "text": "(1200, 22, 100, 100, 1)\n(200, 22, 100, 100, 1)\n(100, 22, 100, 100, 1)\n",
          "name": "stdout"
        }
      ]
    },
    {
      "metadata": {
        "id": "Lcj7fbdhLM-h"
      },
      "cell_type": "markdown",
      "source": [
        "## Model Building and predicting"
      ]
    },
    {
      "metadata": {
        "trusted": true,
        "id": "7l3OEHOfLM-h"
      },
      "cell_type": "code",
      "source": [
        "from keras.layers.convolutional import Conv3D, MaxPooling3D\n",
        "from keras.layers.core import Dense, Dropout, Flatten\n",
        "from keras.models import Sequential\n",
        "from keras.layers import Activation, ZeroPadding3D, TimeDistributed, LSTM, GRU, Reshape\n",
        "from keras.utils import plot_model\n",
        "from keras.layers.normalization import BatchNormalization\n",
        "import matplotlib.pyplot as plt"
      ],
      "execution_count": null,
      "outputs": []
    },
    {
      "metadata": {
        "id": "AYEPju7hLM-h"
      },
      "cell_type": "markdown",
      "source": [
        "### Vanilla 3D CNNs"
      ]
    },
    {
      "metadata": {
        "trusted": true,
        "collapsed": true,
        "id": "SJP3nfASLM-h"
      },
      "cell_type": "code",
      "source": [
        "# model = Sequential()\n",
        "\n",
        "# # 1st layer group\n",
        "# model.add(Conv3D(64, (3, 3, 3), strides = 1, input_shape=(22, 100, 100, 1), activation='relu', padding='valid'))\n",
        "# model.add(MaxPooling3D(pool_size=(2, 2, 2), strides=2))\n",
        "\n",
        "# model.add(Conv3D(128, (3, 3, 3), activation='relu', strides=1))\n",
        "# model.add(MaxPooling3D(pool_size=(2, 2, 2), strides=2))\n",
        "\n",
        "# model.add(Conv3D(256, (2, 2, 2), activation='relu', strides=1))\n",
        "# model.add(MaxPooling3D(pool_size=(2, 2, 2), strides=2))\n",
        "\n",
        "# model.add((Flatten()))\n",
        "\n",
        "# # # FC layers group\n",
        "# model.add(Dense(4096, activation='relu'))\n",
        "# model.add(Dropout(.5))\n",
        "# model.add(Dense(2048, activation='relu'))\n",
        "# model.add(Dropout(.5))\n",
        "\n",
        "# model.add(Dense(10, activation='softmax'))\n",
        "\n",
        "# model.compile(loss='categorical_crossentropy', optimizer='Adagrad', metrics=['accuracy'])\n",
        "# model.summary()"
      ],
      "execution_count": null,
      "outputs": []
    },
    {
      "metadata": {
        "id": "jl_qFd9iLM-h"
      },
      "cell_type": "markdown",
      "source": [
        "* ### 3D CNNs + LSTM"
      ]
    },
    {
      "metadata": {
        "trusted": true,
        "id": "PQvVYCB5LM-h"
      },
      "cell_type": "code",
      "source": [
        "model = Sequential()\n",
        "\n",
        "# 1st layer group\n",
        "model.add(Conv3D(32, (3, 3, 3), strides = 1, input_shape=(22, 100, 100, 1), activation='relu', padding='valid'))\n",
        "model.add(MaxPooling3D(pool_size=(2, 2, 2), strides=2))\n",
        "\n",
        "model.add(Conv3D(64, (3, 3, 3), activation='relu', strides=1))\n",
        "model.add(MaxPooling3D(pool_size=(2, 2, 2), strides=2))\n",
        "\n",
        "model.add(Conv3D(128, (3, 3, 3), activation='relu', strides=1))\n",
        "model.add(MaxPooling3D(pool_size=(2, 2, 2), strides=2))\n",
        "\n",
        "shape = model.get_output_shape_at(0)\n",
        "model.add(Reshape((shape[-1],shape[1]*shape[2]*shape[3])))\n",
        "\n",
        "# LSTMS - Recurrent Network Layer\n",
        "model.add(LSTM(32, return_sequences=True))\n",
        "model.add(Dropout(.5))\n",
        "\n",
        "model.add((Flatten()))\n",
        "\n",
        "# # FC layers group\n",
        "model.add(Dense(2048, activation='relu'))\n",
        "model.add(Dropout(.5))\n",
        "model.add(Dense(1024, activation='relu'))\n",
        "model.add(Dropout(.5))\n",
        "\n",
        "model.add(Dense(10, activation='softmax'))\n",
        "\n",
        "model.compile(loss='categorical_crossentropy', optimizer='Adam', metrics=['accuracy'])\n",
        "# model.summary()"
      ],
      "execution_count": null,
      "outputs": []
    },
    {
      "metadata": {
        "id": "i0QmAp_5LM-h"
      },
      "cell_type": "markdown",
      "source": [
        "* ### 3D CNNs + GRUs"
      ]
    },
    {
      "metadata": {
        "trusted": true,
        "id": "Sw0jtXPdLM-h"
      },
      "cell_type": "code",
      "source": [
        "# model = Sequential()\n",
        "\n",
        "# # 1st layer group\n",
        "# model.add(Conv3D(32, (3, 3, 3), strides = 1, input_shape=(22, 100, 100, 1), activation='relu', padding='valid'))\n",
        "# model.add(MaxPooling3D(pool_size=(2, 2, 2), strides=2))\n",
        "\n",
        "# model.add(Conv3D(64, (3, 3, 3), activation='relu', strides=1))\n",
        "# model.add(MaxPooling3D(pool_size=(2, 2, 2), strides=2))\n",
        "\n",
        "# model.add(Conv3D(128, (3, 3, 3), activation='relu', strides=1))\n",
        "# model.add(MaxPooling3D(pool_size=(2, 2, 2), strides=2))\n",
        "\n",
        "# shape = model.get_output_shape_at(0)\n",
        "# model.add(Reshape((shape[-1],shape[1]*shape[2]*shape[3])))\n",
        "\n",
        "# # Gated Recurrent Unit - Recurrent Network Layer\n",
        "# model.add(GRU(32, return_sequences=True))\n",
        "# model.add(Dropout(.5))\n",
        "\n",
        "# model.add((Flatten()))\n",
        "\n",
        "# # # FC layers group\n",
        "# model.add(Dense(2048, activation='relu'))\n",
        "# model.add(Dropout(.5))\n",
        "# model.add(Dense(1024, activation='relu'))\n",
        "# model.add(Dropout(.5))\n",
        "\n",
        "# model.add(Dense(10, activation='softmax'))\n",
        "\n",
        "# model.compile(loss='categorical_crossentropy', optimizer='Adagrad', metrics=['accuracy'])\n",
        "# model.summary()"
      ],
      "execution_count": null,
      "outputs": []
    },
    {
      "metadata": {
        "trusted": true,
        "id": "FICg_syjLM-h",
        "outputId": "75b32ed2-3cc0-4490-c3fd-74b01ea161f4"
      },
      "cell_type": "code",
      "source": [
        "t1 = time.time()\n",
        "history = model.fit(X_train, y_train, validation_data=(X_val, y_val), epochs=45)\n",
        "t2 = time.time()\n",
        "print()\n",
        "print(f\"Training time : {t2 - t1} secs.\")"
      ],
      "execution_count": null,
      "outputs": [
        {
          "output_type": "stream",
          "text": "Train on 1200 samples, validate on 200 samples\nEpoch 1/45\n1200/1200 [==============================] - 11s 10ms/step - loss: 2.3127 - accuracy: 0.0983 - val_loss: 2.2910 - val_accuracy: 0.1000\nEpoch 2/45\n1200/1200 [==============================] - 11s 9ms/step - loss: 2.2986 - accuracy: 0.1133 - val_loss: 2.2548 - val_accuracy: 0.2000\nEpoch 3/45\n1200/1200 [==============================] - 10s 8ms/step - loss: 2.2710 - accuracy: 0.1292 - val_loss: 2.2453 - val_accuracy: 0.1900\nEpoch 4/45\n1200/1200 [==============================] - 10s 9ms/step - loss: 2.2408 - accuracy: 0.1467 - val_loss: 2.2747 - val_accuracy: 0.1950\nEpoch 5/45\n1200/1200 [==============================] - 10s 8ms/step - loss: 1.9680 - accuracy: 0.2617 - val_loss: 1.7942 - val_accuracy: 0.3600\nEpoch 6/45\n1200/1200 [==============================] - 10s 8ms/step - loss: 1.5686 - accuracy: 0.4042 - val_loss: 1.7533 - val_accuracy: 0.4100\nEpoch 7/45\n1200/1200 [==============================] - 11s 9ms/step - loss: 1.1650 - accuracy: 0.5700 - val_loss: 1.5946 - val_accuracy: 0.4950\nEpoch 8/45\n1200/1200 [==============================] - 10s 9ms/step - loss: 0.9711 - accuracy: 0.6500 - val_loss: 1.4157 - val_accuracy: 0.4650\nEpoch 9/45\n1200/1200 [==============================] - 10s 8ms/step - loss: 0.6948 - accuracy: 0.7500 - val_loss: 1.7174 - val_accuracy: 0.5100\nEpoch 10/45\n1200/1200 [==============================] - 10s 8ms/step - loss: 0.5684 - accuracy: 0.7992 - val_loss: 1.8800 - val_accuracy: 0.4650\nEpoch 11/45\n1200/1200 [==============================] - 10s 8ms/step - loss: 0.4771 - accuracy: 0.8233 - val_loss: 1.7153 - val_accuracy: 0.5400\nEpoch 12/45\n1200/1200 [==============================] - 10s 8ms/step - loss: 0.4025 - accuracy: 0.8550 - val_loss: 1.5554 - val_accuracy: 0.5400\nEpoch 13/45\n1200/1200 [==============================] - 11s 9ms/step - loss: 0.3580 - accuracy: 0.8758 - val_loss: 2.2810 - val_accuracy: 0.4600\nEpoch 14/45\n1200/1200 [==============================] - 10s 8ms/step - loss: 0.2956 - accuracy: 0.8917 - val_loss: 2.0736 - val_accuracy: 0.5500\nEpoch 15/45\n1200/1200 [==============================] - 10s 8ms/step - loss: 0.2921 - accuracy: 0.8967 - val_loss: 2.0747 - val_accuracy: 0.5300\nEpoch 16/45\n1200/1200 [==============================] - 10s 8ms/step - loss: 0.2525 - accuracy: 0.9150 - val_loss: 1.7236 - val_accuracy: 0.5900\nEpoch 17/45\n1200/1200 [==============================] - 10s 8ms/step - loss: 0.1853 - accuracy: 0.9375 - val_loss: 2.1175 - val_accuracy: 0.5650\nEpoch 18/45\n1200/1200 [==============================] - 10s 8ms/step - loss: 0.2713 - accuracy: 0.9033 - val_loss: 2.6075 - val_accuracy: 0.5100\nEpoch 19/45\n1200/1200 [==============================] - 10s 9ms/step - loss: 0.1581 - accuracy: 0.9442 - val_loss: 2.3964 - val_accuracy: 0.4950\nEpoch 20/45\n1200/1200 [==============================] - 10s 9ms/step - loss: 0.1646 - accuracy: 0.9400 - val_loss: 2.8506 - val_accuracy: 0.5300\nEpoch 21/45\n1200/1200 [==============================] - 10s 8ms/step - loss: 0.1158 - accuracy: 0.9575 - val_loss: 2.6176 - val_accuracy: 0.5350\nEpoch 22/45\n1200/1200 [==============================] - 10s 8ms/step - loss: 0.0781 - accuracy: 0.9675 - val_loss: 3.0493 - val_accuracy: 0.5150\nEpoch 23/45\n1200/1200 [==============================] - 10s 8ms/step - loss: 0.1284 - accuracy: 0.9625 - val_loss: 2.3461 - val_accuracy: 0.6100\nEpoch 24/45\n1200/1200 [==============================] - 10s 8ms/step - loss: 0.0850 - accuracy: 0.9708 - val_loss: 3.1328 - val_accuracy: 0.5250\nEpoch 25/45\n1200/1200 [==============================] - 11s 9ms/step - loss: 0.0672 - accuracy: 0.9783 - val_loss: 2.9399 - val_accuracy: 0.5800\nEpoch 26/45\n1200/1200 [==============================] - 10s 8ms/step - loss: 0.0747 - accuracy: 0.9783 - val_loss: 2.8734 - val_accuracy: 0.5800\nEpoch 27/45\n1200/1200 [==============================] - 10s 9ms/step - loss: 0.1471 - accuracy: 0.9533 - val_loss: 2.0825 - val_accuracy: 0.5900\nEpoch 28/45\n1200/1200 [==============================] - 10s 8ms/step - loss: 0.1183 - accuracy: 0.9642 - val_loss: 2.5990 - val_accuracy: 0.5700\nEpoch 29/45\n1200/1200 [==============================] - 10s 8ms/step - loss: 0.1523 - accuracy: 0.9517 - val_loss: 2.5496 - val_accuracy: 0.5750\nEpoch 30/45\n1200/1200 [==============================] - 10s 8ms/step - loss: 0.1190 - accuracy: 0.9592 - val_loss: 2.4771 - val_accuracy: 0.5950\nEpoch 31/45\n1200/1200 [==============================] - 11s 9ms/step - loss: 0.0640 - accuracy: 0.9800 - val_loss: 3.3406 - val_accuracy: 0.5250\nEpoch 32/45\n1200/1200 [==============================] - 10s 8ms/step - loss: 0.0390 - accuracy: 0.9875 - val_loss: 2.6417 - val_accuracy: 0.5500\nEpoch 33/45\n1200/1200 [==============================] - 10s 8ms/step - loss: 0.0659 - accuracy: 0.9842 - val_loss: 2.4744 - val_accuracy: 0.5700\nEpoch 34/45\n1200/1200 [==============================] - 10s 8ms/step - loss: 0.0874 - accuracy: 0.9742 - val_loss: 2.8439 - val_accuracy: 0.4850\nEpoch 35/45\n1200/1200 [==============================] - 10s 8ms/step - loss: 0.0267 - accuracy: 0.9908 - val_loss: 3.1395 - val_accuracy: 0.5150\nEpoch 36/45\n1200/1200 [==============================] - 10s 8ms/step - loss: 0.0375 - accuracy: 0.9925 - val_loss: 3.2442 - val_accuracy: 0.5550\nEpoch 37/45\n1200/1200 [==============================] - 11s 9ms/step - loss: 0.0327 - accuracy: 0.9883 - val_loss: 3.7235 - val_accuracy: 0.4900\nEpoch 38/45\n1200/1200 [==============================] - 10s 8ms/step - loss: 0.0486 - accuracy: 0.9833 - val_loss: 2.8392 - val_accuracy: 0.5750\nEpoch 39/45\n1200/1200 [==============================] - 10s 8ms/step - loss: 0.0843 - accuracy: 0.9775 - val_loss: 3.4567 - val_accuracy: 0.5000\nEpoch 40/45\n1200/1200 [==============================] - 10s 8ms/step - loss: 0.0420 - accuracy: 0.9892 - val_loss: 3.5549 - val_accuracy: 0.5100\nEpoch 41/45\n1200/1200 [==============================] - 10s 8ms/step - loss: 0.0402 - accuracy: 0.9875 - val_loss: 3.3012 - val_accuracy: 0.5800\nEpoch 42/45\n1200/1200 [==============================] - 10s 8ms/step - loss: 0.0486 - accuracy: 0.9875 - val_loss: 3.8664 - val_accuracy: 0.5200\nEpoch 43/45\n1200/1200 [==============================] - 11s 9ms/step - loss: 0.1183 - accuracy: 0.9633 - val_loss: 3.3235 - val_accuracy: 0.5350\nEpoch 44/45\n1200/1200 [==============================] - 10s 8ms/step - loss: 0.0741 - accuracy: 0.9792 - val_loss: 4.1346 - val_accuracy: 0.5150\nEpoch 45/45\n1200/1200 [==============================] - 10s 8ms/step - loss: 0.0374 - accuracy: 0.9842 - val_loss: 3.3859 - val_accuracy: 0.5650\n\nTraining time : 460.0837013721466 secs.\n",
          "name": "stdout"
        }
      ]
    },
    {
      "metadata": {
        "trusted": true,
        "id": "Zr8U3F8BLM-h"
      },
      "cell_type": "code",
      "source": [
        "# from keras.utils import plot_model\n",
        "# plot_model(model, show_shapes=True, show_layer_names=True)"
      ],
      "execution_count": null,
      "outputs": []
    },
    {
      "metadata": {
        "id": "99PPx6MtLM-h"
      },
      "cell_type": "markdown",
      "source": [
        "### Training & Validation accuracy values"
      ]
    },
    {
      "metadata": {
        "trusted": true,
        "id": "b3XZnPi9LM-i",
        "outputId": "b04e5d9a-9039-4e4c-f484-ac85a2df8584"
      },
      "cell_type": "code",
      "source": [
        "# Plot training & validation accuracy values\n",
        "plt.plot(history.history['accuracy'])\n",
        "plt.plot(history.history['val_accuracy'])\n",
        "plt.title('Model accuracy')\n",
        "plt.ylabel('Accuracy')\n",
        "plt.xlabel('Epoch')\n",
        "plt.legend(['Train', 'Validation'], loc='upper left')\n",
        "plt.show()"
      ],
      "execution_count": null,
      "outputs": [
        {
          "output_type": "display_data",
          "data": {
            "text/plain": "<Figure size 432x288 with 1 Axes>",
            "image/png": "[encoded data removed]"
          },
          "metadata": {
            "needs_background": "light"
          }
        }
      ]
    },
    {
      "metadata": {
        "id": "buT1zD7FLM-i"
      },
      "cell_type": "markdown",
      "source": [
        "### Training & Validation loss values"
      ]
    },
    {
      "metadata": {
        "trusted": true,
        "id": "2B8SKV3PLM-i",
        "outputId": "9a027db7-141e-4c9a-c19d-1b7e3097cd62"
      },
      "cell_type": "code",
      "source": [
        "# Plot training & validation loss values\n",
        "plt.plot(history.history['loss'])\n",
        "plt.plot(history.history['val_loss'])\n",
        "plt.title('Model loss')\n",
        "plt.ylabel('Loss')\n",
        "plt.xlabel('Epoch')\n",
        "plt.xlim(1, 40)\n",
        "# plt.ylim(0, 3)\n",
        "plt.legend(['Train', 'Validation'], loc='upper left')\n",
        "plt.show()"
      ],
      "execution_count": null,
      "outputs": [
        {
          "output_type": "display_data",
          "data": {
            "text/plain": "<Figure size 432x288 with 1 Axes>",
            "image/png": "[encoded data removed]"
          },
          "metadata": {
            "needs_background": "light"
          }
        }
      ]
    },
    {
      "metadata": {
        "trusted": true,
        "id": "THbpb-4gLM-j"
      },
      "cell_type": "code",
      "source": [
        "ypred = model.predict(X_test)"
      ],
      "execution_count": null,
      "outputs": []
    },
    {
      "metadata": {
        "trusted": true,
        "id": "3de8bWaqLM-j"
      },
      "cell_type": "code",
      "source": [
        "predicted_words = [words[i] for i in np.argmax(ypred, axis=1)]\n",
        "actual_words = [words[i] for i in np.argmax(y_test, axis=1)]"
      ],
      "execution_count": null,
      "outputs": []
    },
    {
      "metadata": {
        "trusted": true,
        "id": "-mM3PlKoLM-j",
        "outputId": "2471d8e4-b529-4389-d84b-cff376074a9e"
      },
      "cell_type": "code",
      "source": [
        "correct = 0\n",
        "for p, a in zip(predicted_words, actual_words):\n",
        "    if p == a:\n",
        "        correct += 1\n",
        "#     print(f\"Predicted : {p} \\t Actual : {a}\")\n",
        "\n",
        "accuracy = correct/len(actual_words)\n",
        "print(f\"Accuracy = {accuracy} on completely unseen data\")"
      ],
      "execution_count": null,
      "outputs": [
        {
          "output_type": "stream",
          "text": "Accuracy = 0.32 on completely unseen data\n",
          "name": "stdout"
        }
      ]
    },
    {
      "metadata": {
        "id": "4DepNerZLM-j"
      },
      "cell_type": "markdown",
      "source": []
    }
  ],
  "metadata": {
    "kernelspec": {
      "display_name": "Python 3",
      "language": "python",
      "name": "python3"
    },
    "language_info": {
      "name": "python",
      "version": "3.6.4",
      "mimetype": "text/x-python",
      "codemirror_mode": {
        "name": "ipython",
        "version": 3
      },
      "pygments_lexer": "ipython3",
      "nbconvert_exporter": "python",
      "file_extension": ".py"
    },
    "colab": {
      "provenance": []
    }
  },
  "nbformat": 4,
  "nbformat_minor": 0
}